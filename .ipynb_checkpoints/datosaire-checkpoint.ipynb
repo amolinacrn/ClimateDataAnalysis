{
 "cells": [
  {
   "cell_type": "code",
   "execution_count": 2,
   "metadata": {
    "editable": true,
    "scrolled": true,
    "slideshow": {
     "slide_type": ""
    },
    "tags": []
   },
   "outputs": [
    {
     "ename": "ModuleNotFoundError",
     "evalue": "No module named 'scipy'",
     "output_type": "error",
     "traceback": [
      "\u001b[0;31m---------------------------------------------------------------------------\u001b[0m",
      "\u001b[0;31mModuleNotFoundError\u001b[0m                       Traceback (most recent call last)",
      "Cell \u001b[0;32mIn[2], line 10\u001b[0m\n\u001b[1;32m      8\u001b[0m \u001b[38;5;28;01mimport\u001b[39;00m \u001b[38;5;21;01mmatplotlib\u001b[39;00m \u001b[38;5;28;01mas\u001b[39;00m \u001b[38;5;21;01mmpl\u001b[39;00m\n\u001b[1;32m      9\u001b[0m \u001b[38;5;28;01mfrom\u001b[39;00m \u001b[38;5;21;01mpathlib\u001b[39;00m \u001b[38;5;28;01mimport\u001b[39;00m Path\n\u001b[0;32m---> 10\u001b[0m \u001b[38;5;28;01mfrom\u001b[39;00m \u001b[38;5;21;01mlibmolina\u001b[39;00m \u001b[38;5;28;01mimport\u001b[39;00m \u001b[38;5;241m*\u001b[39m\n\u001b[1;32m     11\u001b[0m \u001b[38;5;28;01mfrom\u001b[39;00m \u001b[38;5;21;01mdatetime\u001b[39;00m \u001b[38;5;28;01mimport\u001b[39;00m datetime\n\u001b[1;32m     12\u001b[0m \u001b[38;5;28;01mfrom\u001b[39;00m \u001b[38;5;21;01miminuit\u001b[39;00m \u001b[38;5;28;01mimport\u001b[39;00m Minuit\n",
      "File \u001b[0;32m~/Documentos/Analysisdata/workspace/libmolina.py:4\u001b[0m\n\u001b[1;32m      2\u001b[0m \u001b[38;5;28;01mfrom\u001b[39;00m \u001b[38;5;21;01mdatetime\u001b[39;00m \u001b[38;5;28;01mimport\u001b[39;00m datetime\n\u001b[1;32m      3\u001b[0m \u001b[38;5;28;01mimport\u001b[39;00m \u001b[38;5;21;01mpandas\u001b[39;00m \u001b[38;5;28;01mas\u001b[39;00m \u001b[38;5;21;01mpd\u001b[39;00m\n\u001b[0;32m----> 4\u001b[0m \u001b[38;5;28;01mfrom\u001b[39;00m \u001b[38;5;21;01mscipy\u001b[39;00m \u001b[38;5;28;01mimport\u001b[39;00m stats\n\u001b[1;32m      7\u001b[0m \u001b[38;5;28;01mdef\u001b[39;00m \u001b[38;5;21mbulk_data_grouping\u001b[39m(conjunto_de_datos, agrupando_chunk, directorio_save):\n\u001b[1;32m      8\u001b[0m \u001b[38;5;250m    \u001b[39m\u001b[38;5;124;03m\"\"\"\u001b[39;00m\n\u001b[1;32m      9\u001b[0m \u001b[38;5;124;03m    Esta función agrupa y guarda  conjunto masivos  de datos\u001b[39;00m\n\u001b[1;32m     10\u001b[0m \n\u001b[0;32m   (...)\u001b[0m\n\u001b[1;32m     18\u001b[0m \n\u001b[1;32m     19\u001b[0m \u001b[38;5;124;03m    \"\"\"\u001b[39;00m\n",
      "\u001b[0;31mModuleNotFoundError\u001b[0m: No module named 'scipy'"
     ]
    }
   ],
   "source": [
    "import pandas as pd\n",
    "import os\n",
    "import numpy as np\n",
    "from matplotlib.pylab import plt\n",
    "import seaborn as sns\n",
    "import matplotlib\n",
    "import matplotlib.gridspec as gridspec\n",
    "import matplotlib as mpl\n",
    "from pathlib import Path\n",
    "from libmolina import *\n",
    "from datetime import datetime\n",
    "from iminuit import Minuit\n",
    "from probfit import Chi2Regression, Polynomial\n",
    "import seaborn as sns\n",
    "import matplotlib.ticker as mticker\n",
    "import matplotlib.dates as mdates"
   ]
  },
  {
   "cell_type": "markdown",
   "metadata": {},
   "source": [
    "# Analizando datos"
   ]
  },
  {
   "cell_type": "code",
   "execution_count": 10,
   "metadata": {},
   "outputs": [],
   "source": [
    "matplotlib.rcParams[\"text.usetex\"] = True\n",
    "cmap = plt.colormaps[\"viridis\"]  # plasma\n",
    "viridis = mpl.colormaps[\"plasma\"]"
   ]
  },
  {
   "cell_type": "code",
   "execution_count": 2,
   "metadata": {},
   "outputs": [],
   "source": [
    "variables_contaminacion = {\n",
    "    \"co_concentracion\": {\"variable\": \"CO\", \"unidad\": \"$\\mu$g$/$m$^3$\"},\n",
    "    \"direccion_viento\": {\"variable\": \"Dirección del Viento\", \"unidad\": \"$^{\\circ}$\"},\n",
    "    \"humedad_relativa\": {\"variable\": \"Humedad Relativa\", \"unidad\": \"\\%\"},\n",
    "    \"humedad_relativa_10m\": {\"variable\": \"Humedad Relativa 10 m\", \"unidad\": \"\\%\"},\n",
    "    \"humedad_relativa_2m\": {\"variable\": \"Humedad Relativa 2 m\", \"unidad\": \"\\%\"},\n",
    "    \"no_concentracion\": {\"variable\": \"NO\", \"unidad\": \"$\\mu$g$/$m$^3$\"},\n",
    "    \"no2_concentracion\": {\"variable\": \"NO2\", \"unidad\": \"$\\mu$g$/$m$^3$\"},\n",
    "    \"o3_concentracion\": {\"variable\": \"O3\", \"unidad\": \"$\\mu$g$/$m$^3$\"},\n",
    "    \"pm10_concentracion\": {\"variable\": \"PM10\", \"unidad\": \"$\\mu$g$/$m$^3$\"},\n",
    "    \"pm25_concentracion\": {\"variable\": \"PM2.5\", \"unidad\": \"$\\mu$g$/$m$^3$\"},\n",
    "    \"pst_concentracion\": {\"variable\": \"PST\", \"unidad\": \"$\\mu$g$/$m$^3$\"},\n",
    "    \"precipitacion_liquida\": {\"variable\": \"Precipitación Líquida\", \"unidad\": \"mm\"},\n",
    "    \"presion_atmosferica\": {\"variable\": \"Presión Atmosférica\", \"unidad\": \"mmHg\"},\n",
    "    \"radiacion_solar_global\": {\n",
    "        \"variable\": \"Radiación Solar Global\",\n",
    "        \"unidad\": \"W$/$m$^2$\",\n",
    "    },\n",
    "    \"radiacion_uvb\": {\"variable\": \"Radiación UVB\", \"unidad\": \"MED$/$h\"},\n",
    "    \"so2_concentracion\": {\"variable\": \"SO2\", \"unidad\": \"$\\mu$g$/$m$^3$\"},\n",
    "    \"temperatura\": {\"variable\": \"Temperatura\", \"unidad\": \"$^{\\circ}$C\"},\n",
    "    \"temperatura_10m\": {\"variable\": \"Temperatura a 10 m\", \"unidad\": \"$^{\\circ}$C\"},\n",
    "    \"temperatura_2m\": {\"variable\": \"Temperatura a 2 m\", \"unidad\": \"$^{\\circ}$C\"},\n",
    "    \"velocidad_viento\": {\"variable\": \"Velocidad del Viento\", \"unidad\": \"m$/$s\"},\n",
    "}"
   ]
  },
  {
   "cell_type": "code",
   "execution_count": 3,
   "metadata": {},
   "outputs": [],
   "source": [
    "data_frame_subconjunto = pd.read_csv(\n",
    "    \"datos_segmentados/co_concentracion.csv\",\n",
    "    dtype=str,\n",
    ")"
   ]
  },
  {
   "cell_type": "code",
   "execution_count": null,
   "metadata": {},
   "outputs": [],
   "source": [
    "# datf.info()\n",
    "# datf.isnull().sum()\n",
    "data_frame_subconjunto = data_frame_subconjunto.dropna()"
   ]
  },
  {
   "cell_type": "code",
   "execution_count": 6,
   "metadata": {},
   "outputs": [],
   "source": [
    "mxsizeclas=[]\n",
    "variable_climaticas=[]\n",
    "for us, ot in enumerate(list(variables_contaminacion.keys())):\n",
    "    data_frame_subconjunto = pd.read_csv(\"datos_segmentados/\" + ot + \".csv\", dtype=str)\n",
    "    data_frame_subconjunto = data_frame_subconjunto.dropna()\n",
    "    quitarcoma = [float(dato.replace(\",\", \"\")) for dato in data_frame_subconjunto[\"Concentración\"]]\n",
    "    variable_clima_boxplot = datos_caja_biogotes(quitarcoma)\n",
    "    k = len(np.histogram_bin_edges(variable_clima_boxplot, bins=\"auto\"))\n",
    "    if k > 75:\n",
    "        variable_climaticas.append(list(variables_contaminacion.values())[us])\n",
    "        frc,_= np.histogram(variable_clima_boxplot, bins=171)\n",
    "        frcnormal = frc / sum(frc)\n",
    "        frcnormal=list(frcnormal)\n",
    "        mxsizeclas.append(frcnormal)\n",
    "    sizeclas = np.array(mxsizeclas)"
   ]
  },
  {
   "cell_type": "code",
   "execution_count": 7,
   "metadata": {},
   "outputs": [],
   "source": [
    "mx_corr_pearsonr, mx_valores_p = correlacion_pearsonr_difrentes_variables(\n",
    "    np.array(sizeclas)\n",
    ")"
   ]
  },
  {
   "cell_type": "code",
   "execution_count": null,
   "metadata": {},
   "outputs": [],
   "source": [
    "fig = plt.figure(figsize=(20, 17), tight_layout=True)\n",
    "gs = gridspec.GridSpec(1, 2)\n",
    "ax0 = fig.add_subplot(gs[0, 0])\n",
    "ax1 = fig.add_subplot(gs[0, 1])\n",
    "ax = [ax0, ax1]\n",
    "\n",
    "titulos = [\n",
    "    \"Dependencia de los coeficientes de variación de las variables climaticas en Colombia\",\n",
    "    \"Valores p asociados para cada alternativa\",\n",
    "]\n",
    "\n",
    "ffarmers = [variable_climaticas, variable_climaticas]\n",
    "harvest = [mx_corr_pearsonr, mx_valores_p]\n",
    "graficar_correlacines_pearsonr(harvest, ax, plt, titulos, ffarmers)\n",
    "\n",
    "fig.tight_layout()\n",
    "fig.savefig(\"cvclima.pdf\")\n",
    "plt.show()"
   ]
  },
  {
   "cell_type": "code",
   "execution_count": null,
   "metadata": {},
   "outputs": [],
   "source": [
    "fig = plt.figure(figsize=(20, 20), tight_layout=True)\n",
    "nN=len(variable_climaticas)\n",
    "gs = gridspec.GridSpec(nN, nN)\n",
    "\n",
    "for i, vlimai in enumerate(variable_climaticas):\n",
    "    for j, vclimaj in enumerate(variable_climaticas):\n",
    "\n",
    "        fig.add_subplot(gs[i, j]).plot(\n",
    "            list(sizeclas[np.array(variable_climaticas) == vlimai][0]),\n",
    "            list(sizeclas[np.array(variable_climaticas) == vclimaj][0]),\n",
    "            \"o\",\n",
    "        )\n",
    "plt.show(),"
   ]
  },
  {
   "cell_type": "code",
   "execution_count": 33,
   "metadata": {},
   "outputs": [],
   "source": [
    "cv_variable_climaticas=[]\n",
    "cv_datos_clima=[]\n",
    "dist_prob_climaticas=[]\n",
    "for us, ot in enumerate(list(variables_contaminacion.keys())):\n",
    "    data_frame_subconjunto = pd.read_csv(\"datos_segmentados/\" + ot + \".csv\", dtype=str)\n",
    "    data_frame_subconjunto = data_frame_subconjunto.dropna()\n",
    "    lista_grade = [float(dato.replace(\",\", \"\")) for dato in data_frame_subconjunto[\"Concentración\"]]\n",
    "    datos_concent_bigotes = datos_caja_biogotes(lista_grade)\n",
    "    k = len(np.histogram_bin_edges(datos_concent_bigotes, bins=\"auto\"))\n",
    "    if k > 75:\n",
    "        xfrc,intervalo_de_clasess = np.histogram(datos_concent_bigotes, bins=171)\n",
    "        categorias_de_clase = pd.cut(datos_concent_bigotes, bins=intervalo_de_clasess)\n",
    "        datos_agrupados_por_clase = (\n",
    "            pd.Series(datos_concent_bigotes).groupby(categorias_de_clase)\n",
    "        )\n",
    "        coeficiete_de_variacion = list(datos_agrupados_por_clase.apply(lambda x: x.std() / x.mean()))\n",
    "        nan_indic = np.where(np.isnan(coeficiete_de_variacion))[0]\n",
    "        if len(nan_indic) == 0:\n",
    "            xfrc = xfrc / sum(xfrc)\n",
    "            dist_prob_climaticas.append(xfrc)\n",
    "            cv_variable_climaticas.append(list(variables_contaminacion.values())[us])\n",
    "            cv_datos_clima.append(coeficiete_de_variacion)"
   ]
  },
  {
   "cell_type": "code",
   "execution_count": 34,
   "metadata": {},
   "outputs": [],
   "source": [
    "# mx_corr_pearsonr,mx_valores_p = correlacion_pearsonr_difrentes_variables(np.array(cv_datos_clima))\n",
    "matriz = np.array(cv_datos_clima)\n",
    "cv_flatten=matriz.flatten()\n",
    "_, interclasescv = np.histogram(cv_flatten, bins=171)"
   ]
  },
  {
   "cell_type": "code",
   "execution_count": null,
   "metadata": {},
   "outputs": [],
   "source": [
    "fig = plt.figure(figsize=(15, 15), tight_layout=True)\n",
    "gs = gridspec.GridSpec(1,1)\n",
    "ax = fig.add_subplot(gs[0, 0])\n",
    "\n",
    "for ur in dist_prob_climaticas:\n",
    "    ax.plot(interclasescv[:-1][ur<0.1], ur[ur<0.1], \"o\")\n",
    "\n",
    "fig.tight_layout()\n",
    "fig.savefig(\"cvclima.pdf\")\n",
    "plt.show()"
   ]
  },
  {
   "cell_type": "code",
   "execution_count": null,
   "metadata": {},
   "outputs": [],
   "source": [
    "ui = np.array([[i, j] for i in range(1) for j in range(2)])\n",
    "for ur in range(0,len(list(variables_contaminacion.keys())),2):\n",
    "    fig = plt.figure(figsize=(20, 5), tight_layout=True)\n",
    "    gs = gridspec.GridSpec(1, 2)\n",
    "    for us in range(ur,ur+2):\n",
    "        uz = us % 2\n",
    "        ot=list(variables_contaminacion.keys())[us]\n",
    "        ax0 = fig.add_subplot(gs[ui[:, 0][uz], ui[:, 1][uz]])\n",
    "        data_frame_subconjunto = pd.read_csv(\"datos_segmentados/\" + ot + \".csv\",dtype=str)\n",
    "        # data_frame_subconjunto[\"Concentración\"] = data_frame_subconjunto[\"Concentración\"].str.replace(\",\", \"\")\n",
    "        data_frame_subconjunto[\"Concentración\"] = data_frame_subconjunto[\"Concentración\"].astype(float)\n",
    "        data_frame_subconjunto[\"Fecha_24h\"] = pd.to_datetime(data_frame_subconjunto[\"Fecha_24h\"], format=\"%Y/%m/%d %H:%M:%S\")\n",
    "        datdataframe = data_frame_subconjunto.copy()\n",
    "        dev_std=datdataframe[\"Concentración\"].std()\n",
    "\n",
    "        \n",
    "        datdataframe0 = datdataframe[datdataframe[\"Concentración\"] < 3*dev_std].copy()\n",
    "\n",
    "        # frc, cbin = np.histogram(datdataframe[\"Concentración\"], bins=200)\n",
    "        # x = cbin[:-1]\n",
    "        # y = frc / sum(frc)\n",
    "        # ax0.plot(x, y, \"o\")\n",
    "\n",
    "        datdataframe0.set_index(\"Fecha_24h\", inplace=True)\n",
    "        datdataframe0[\"Periodo\"] = datdataframe0.index.to_period(\"D\").copy()\n",
    "        promedio_semanal0 = datdataframe0.groupby(\"Periodo\")[\n",
    "            \"Concentración\"\n",
    "        ].describe()  # .to_Fecha_24h()\n",
    "\n",
    "        promedio_semanal0[\"mean\"].plot(style=\"-o\", markersize=3, color=\"blue\")\n",
    "\n",
    "\n",
    "\n",
    "\n",
    "\n",
    "\n",
    "        datdataframe1 = datdataframe[datdataframe[\"Concentración\"] > 3*dev_std].copy()\n",
    "\n",
    "        datdataframe1.set_index(\"Fecha_24h\", inplace=True)\n",
    "        datdataframe1[\"Periodo\"] = datdataframe1.index.to_period(\"D\").copy()\n",
    "        promedio_semanal1 = datdataframe1.groupby(\"Periodo\")[\"Concentración\"].describe()#.to_timestamp()\n",
    "\n",
    "        promedio_semanal1[\"mean\"].plot(style=\"-o\", markersize=3, color=\"red\")\n",
    "\n",
    "        # kax0.plot(fecha_semanal,values_semanal,\"-o\", markersize=3, color='blue')\n",
    "        # ax0.fill_between(\n",
    "        #     fecha_semanal,\n",
    "        #     values_semanal - errs_semanal,\n",
    "        #     values_semanal + errs_semanal,\n",
    "        #     color=\"black\",\n",
    "        #     alpha=0.1,\n",
    "        # )\n",
    "\n",
    "        # frc, cbin = np.histogram(lista_pequena, bins=171)\n",
    "        # print(len(lista_pequena), \" \", ot, \" \", k)\n",
    "        # x = cbin[:-1]\n",
    "        # y = frc / sum(frc)\n",
    "        # ax1.plot(x, y, \"o\")\n",
    "        # for u in range(len(x)):\n",
    "        #     ax1.bar(x, y, width=140, ec=\"w\", color=viridis.colors[u])\n",
    "\n",
    "        unidad_variable=variables_contaminacion[ot][\"unidad\"]\n",
    "        nombre_variable=variables_contaminacion[ot][\"variable\"]\n",
    "        ax0.xaxis.set_tick_params(labelsize=17)\n",
    "        ax0.yaxis.set_tick_params(labelsize=17)\n",
    "        ax0.set_xlabel(f\"Tiempo(wk)\", fontsize=20)\n",
    "        ax0.set_ylabel(f\"{nombre_variable} ({unidad_variable})\", fontsize=18)\n",
    "        ax0.set_title(nombre_variable, fontsize=20)\n",
    "        # ax0.set_xlim(\"2011\",\"2019\")\n",
    "    fig.tight_layout()\n",
    "    plt.subplots_adjust(wspace=0.15)\n",
    "    ncont=int(ur/2)\n",
    "    # fig.savefig(f\"imgseriestmp/img{ncont}.pdf\")\n",
    "    plt.show()"
   ]
  },
  {
   "cell_type": "code",
   "execution_count": 203,
   "metadata": {},
   "outputs": [],
   "source": [
    "def size_avalancha(samples):\n",
    "    bin_size = 6\n",
    "    step = np.arange(samples[0], samples[-1], bin_size)\n",
    "    spk_count, edges = np.histogram(samples, bins=step)\n",
    "    I = np.argwhere(spk_count == 0).T[0]\n",
    "\n",
    "    somas = []\n",
    "    for i in range(0, len(I) - 1):\n",
    "        somaX = np.sum(spk_count[I[i] : I[i + 1]])\n",
    "        somas.append(somaX)\n",
    "        # somas=np.concatenate((somas,somaX))\n",
    "    somas = np.array(somas, dtype=float)\n",
    "    size = somas[somas != 0]\n",
    "\n",
    "    return size"
   ]
  },
  {
   "cell_type": "code",
   "execution_count": 144,
   "metadata": {},
   "outputs": [],
   "source": [
    "fecha24h = \"Fecha_24h\"  # datos fecha de eventos\n",
    "pathdir = \"datos_segmentados\"  # directorio datos agrupados\n",
    "formatofecha = \"%Y/%m/%d %H:%M:%S\"  # formato para la fecha.\n",
    "fechahoras = \"Fecha_horas\"\n",
    "variable = \"Concentración\"  # datos variable admosférica\n",
    "municipio = \"Nombre del municipio\"  # datos fecha en formato 24 horas\n",
    "periodo = \"H\"  # agrupe los datos por periodo: hora (H), dia(D), semana(W), mensual(M), anual (H)\n",
    "varperiodo = \"Periodo\"  # creando columna de datos agrupados por periodo\n",
    "varestadist = \"mean\"  # estadística de interés, media(mean) desviación estándar (std), etc.\n",
    "codigomunicipal = \"Código del municipio\"  # Código del municipio\n",
    "color = np.random.rand(110, 3)\n",
    "mcolr = np.mean(color, axis=1)\n",
    "colores_aleatorios = color[np.where(mcolr < 0.7)]\n",
    "adres_dir = os.listdir(pathdir)\n",
    "pathfil =list(filter(lambda archivo: not archivo.endswith(\".csv\"), adres_dir))"
   ]
  },
  {
   "cell_type": "code",
   "execution_count": null,
   "metadata": {},
   "outputs": [],
   "source": [
    "for i,var_clima in enumerate(pathfil):\n",
    "    if i ==3:\n",
    "        adres_dir = os.listdir(f\"{pathdir}/{var_clima}\")\n",
    "        for j,datsmun in enumerate(adres_dir): \n",
    "            # if j==40:\n",
    "            fig = plt.figure(figsize=(20, 7), tight_layout=True)\n",
    "            gs = gridspec.GridSpec(1, 2)\n",
    "            ax0 = fig.add_subplot(gs[0,0])\n",
    "            ax1 = fig.add_subplot(gs[0,1])\n",
    "            dfcsv = pd.read_csv(f\"{pathdir}/{var_clima}/{datsmun}\", dtype=str)\n",
    "            dfcpcsv = dfcsv.copy()\n",
    "            dfcpcsv[variable] = dfcpcsv[variable].astype(float)\n",
    "            dfcpcsv[fechahoras] = dfcpcsv[fechahoras].astype(float)\n",
    "            dfcpcsv[fecha24h] = pd.to_datetime(dfcpcsv[fecha24h], format=formatofecha)\n",
    "            dev_std = dfcpcsv[variable].std()\n",
    "            dfcpcsv.set_index(fecha24h, inplace=True)\n",
    "            dfcpcsv = dfcpcsv[dfcpcsv[variable] != 0]\n",
    "            if len(list(np.sort(dfcpcsv[fechahoras]))) != 0:\n",
    "                dfcpcsv[variable].plot(style=\"-o\", markersize=3, color=colores_aleatorios[j],ax=ax1)\n",
    "                size_avalancha_ceros = size_avalancha(list(np.sort(dfcpcsv[fechahoras])))\n",
    "                k = len(np.histogram_bin_edges(size_avalancha_ceros, bins=\"auto\"))\n",
    "                fr, bn = np.histogram(size_avalancha_ceros, bins=k)\n",
    "                df = {\"x\": list(bn[:-1]), \"y\": list(fr)}\n",
    "                sns.lineplot(x=\"x\", y=\"y\", data=df, ax=ax0,marker=\"o\", color=\"blue\")    \n",
    "                print(j,\" \",var_clima,\",\", dfcsv[municipio].unique()[0],\", \", dfcsv[codigomunicipal].unique()[0])\n",
    "                ax0.set_yscale(\"log\")\n",
    "                ax0.set_xscale(\"log\")\n",
    "                fig.tight_layout()\n",
    "                plt.subplots_adjust(wspace=0.15)\n",
    "                # fig.savefig(f\"imgseriestmp/img{ncont}.pdf\")\n",
    "                plt.show()\n",
    "    \n",
    "   "
   ]
  },
  {
   "cell_type": "code",
   "execution_count": 266,
   "metadata": {},
   "outputs": [],
   "source": [
    "pd.set_option(\"display.max_rows\",None)"
   ]
  },
  {
   "cell_type": "code",
   "execution_count": 145,
   "metadata": {},
   "outputs": [
    {
     "name": "stdout",
     "output_type": "stream",
     "text": [
      "precipitacion_liquida\n",
      "temperatura_10m\n",
      "temperatura\n",
      "no_concentracion\n",
      "pm25_concentracion\n",
      "radiacion_solar_global\n",
      "presion_atmosferica\n",
      "no2_concentracion\n",
      "velocidad_viento\n",
      "humedad_relativa_2m\n",
      "so2_concentracion\n",
      "humedad_relativa_10m\n",
      "radiacion_uvb\n",
      "direccion_viento\n",
      "temperatura_2m\n",
      "pm10_concentracion\n",
      "co_concentracion\n",
      "pst_concentracion\n",
      "o3_concentracion\n",
      "humedad_relativa\n"
     ]
    }
   ],
   "source": [
    "muestras=[]\n",
    "for i,var_clima in enumerate(pathfil):\n",
    "    print(var_clima)\n",
    "    adres_dir = os.listdir(f\"{pathdir}/{var_clima}\")\n",
    "    for j, datsmun in enumerate(adres_dir):\n",
    "        # if datsmun == \"47189.csv\":\n",
    "        dfuniq = pd.read_csv(f\"{pathdir}/{var_clima}/{datsmun}\", dtype=str)\n",
    "        dfuniq[fecha24h] = pd.to_datetime(dfuniq[fecha24h], format=formatofecha)\n",
    "        dfuniq = dfuniq[\n",
    "                [\n",
    "                    fecha24h,\n",
    "                    fechahoras,\n",
    "                    municipio,\n",
    "                    codigomunicipal,\n",
    "                    variable,\n",
    "                ]\n",
    "            ]\n",
    "        dfuniq[\"Fecha_horas\"] = dfuniq[\"Fecha_horas\"].astype(float)\n",
    "        df_datos_sort = dfuniq.sort_values(by=fechahoras).copy()\n",
    "        df_datos_sort[\"Anyo\"] = df_datos_sort[fecha24h].dt.year\n",
    "        lista_anyos = list(df_datos_sort[\"Anyo\"].unique())\n",
    "\n",
    "        for anyo in lista_anyos:\n",
    "            df_filtrado_anyo = df_datos_sort[df_datos_sort[\"Anyo\"].isin([anyo])].copy()\n",
    "            df_filtrado_anyo[\"Mes\"] = df_filtrado_anyo[fecha24h].dt.month\n",
    "            df_filtrado_anyo[\"Dia\"] = df_filtrado_anyo[fecha24h].dt.day\n",
    "            df_filtrado_anyo[\"Hora\"] = df_filtrado_anyo[fecha24h].dt.hour\n",
    "            lista_meses = list(df_filtrado_anyo[\"Mes\"].unique())\n",
    "            # print(lista_meses)\n",
    "            df_filtrado_mes=[]\n",
    "            for mes in lista_meses:\n",
    "                df_filtrado_mes.append(df_filtrado_anyo[df_filtrado_anyo[\"Mes\"] == mes])\n",
    "\n",
    "            for nummes, dfmes in enumerate(df_filtrado_mes):\n",
    "                lista_dias = list(dfmes[\"Dia\"].unique())\n",
    "                # print(lista_dias, lista_meses[nummes])\n",
    "                muestras.append(len(lista_dias))\n",
    "\n",
    "                df_filtrado_dias=[]\n",
    "                for dia in lista_dias:\n",
    "                    df_filtrado_dias.append(dfmes[dfmes[\"Dia\"] == dia])\n",
    "\n",
    "        # for anyo,dfanyo in enumerate(lista_agrupando_anyos):\n",
    "        #     df_datos_sort[\"Hora\"] = df_datos_sort[fecha24h].dt.hour\n",
    "\n",
    "        # list_mes = list(df_datos_sort[\"Mes\"].unique())\n",
    "\n",
    "        # df_filtrado_mes = df_datos_sort[df_datos_sort[\"Mes\"].isin([1])]\n",
    "        # df_filtrado_dia = df_filtrado_mes[fecha24h].dt.day\n",
    "        # dflist = list(df_datos_sort[\"Mes\"].unique())\n",
    "\n",
    "        # dfuniq[\"Muestreo\"]=dfuniq[\"Hora\"].compare\n",
    "\n",
    "        # df_false = df_filtrado_hora[df_filtrado_hora[\"Duplicados\"] == False]\n",
    "        # list_index=df_false.index.tolist()  # Obtener el indice de un Elemento Específico\n",
    "        # dataframe_isin=dfuniq[~dfuniq.index.isin(list_index)].copy()"
   ]
  },
  {
   "cell_type": "code",
   "execution_count": 151,
   "metadata": {},
   "outputs": [
    {
     "data": {
      "text/plain": [
       "6868"
      ]
     },
     "execution_count": 151,
     "metadata": {},
     "output_type": "execute_result"
    }
   ],
   "source": [
    "len(muestras)\n",
    "\n",
    "len(np.array(muestras)[np.array(muestras) == 31])"
   ]
  },
  {
   "cell_type": "code",
   "execution_count": 139,
   "metadata": {},
   "outputs": [
    {
     "data": {
      "text/html": [
       "<div>\n",
       "<style scoped>\n",
       "    .dataframe tbody tr th:only-of-type {\n",
       "        vertical-align: middle;\n",
       "    }\n",
       "\n",
       "    .dataframe tbody tr th {\n",
       "        vertical-align: top;\n",
       "    }\n",
       "\n",
       "    .dataframe thead th {\n",
       "        text-align: right;\n",
       "    }\n",
       "</style>\n",
       "<table border=\"1\" class=\"dataframe\">\n",
       "  <thead>\n",
       "    <tr style=\"text-align: right;\">\n",
       "      <th></th>\n",
       "      <th>Fecha_24h</th>\n",
       "      <th>Fecha_horas</th>\n",
       "      <th>Nombre del municipio</th>\n",
       "      <th>Código del municipio</th>\n",
       "      <th>Concentración</th>\n",
       "      <th>Anyo</th>\n",
       "      <th>Mes</th>\n",
       "      <th>Dia</th>\n",
       "      <th>Hora</th>\n",
       "    </tr>\n",
       "  </thead>\n",
       "  <tbody>\n",
       "    <tr>\n",
       "      <th>1429</th>\n",
       "      <td>2017-12-19 10:00:00</td>\n",
       "      <td>61066.0</td>\n",
       "      <td>CIÉNAGA</td>\n",
       "      <td>47189</td>\n",
       "      <td>33.299</td>\n",
       "      <td>2017</td>\n",
       "      <td>12</td>\n",
       "      <td>19</td>\n",
       "      <td>10</td>\n",
       "    </tr>\n",
       "    <tr>\n",
       "      <th>1430</th>\n",
       "      <td>2017-12-19 11:00:00</td>\n",
       "      <td>61067.0</td>\n",
       "      <td>CIÉNAGA</td>\n",
       "      <td>47189</td>\n",
       "      <td>0.185</td>\n",
       "      <td>2017</td>\n",
       "      <td>12</td>\n",
       "      <td>19</td>\n",
       "      <td>11</td>\n",
       "    </tr>\n",
       "  </tbody>\n",
       "</table>\n",
       "</div>"
      ],
      "text/plain": [
       "               Fecha_24h  Fecha_horas Nombre del municipio  \\\n",
       "1429 2017-12-19 10:00:00      61066.0              CIÉNAGA   \n",
       "1430 2017-12-19 11:00:00      61067.0              CIÉNAGA   \n",
       "\n",
       "     Código del municipio Concentración  Anyo  Mes  Dia  Hora  \n",
       "1429                47189        33.299  2017   12   19    10  \n",
       "1430                47189         0.185  2017   12   19    11  "
      ]
     },
     "execution_count": 139,
     "metadata": {},
     "output_type": "execute_result"
    }
   ],
   "source": [
    "df_filtrado_dias[1]"
   ]
  },
  {
   "cell_type": "code",
   "execution_count": null,
   "metadata": {},
   "outputs": [],
   "source": [
    "size_avalancha_ceros = size_avalancha(list(np.sort(dfcpcsv[\"Fecha_horas\"])))\n",
    "k = len(np.histogram_bin_edges(size_avalancha_ceros, bins=\"auto\"))\n",
    "fr,bn=np.histogram(size_avalancha_ceros,bins=k)\n",
    "plt.plot(bn[:-1],fr,\"o\")\n",
    "plt.yscale(\"log\")\n",
    "plt.xscale(\"log\")"
   ]
  },
  {
   "cell_type": "markdown",
   "metadata": {},
   "source": [
    "# Análisis de series temporales climáticas focalizado en datos atípicos"
   ]
  },
  {
   "cell_type": "markdown",
   "metadata": {},
   "source": [
    "### Diviendo datos por variable y municipio"
   ]
  },
  {
   "cell_type": "markdown",
   "metadata": {},
   "source": [
    "Dada la gran cantidad de datos, es necesario segmentarlos antes de cargarlos. Además, como las muestras contienen un formato de fecha incorrecto, es esencial corregirlo para poder analizar los datos como una serie temporal."
   ]
  },
  {
   "cell_type": "code",
   "execution_count": null,
   "metadata": {},
   "outputs": [],
   "source": [
    "conjunto_de_datos = pd.read_csv(\n",
    "    \"datos_aire.csv\",\n",
    "    dtype=str,\n",
    "    chunksize=5000000,\n",
    ")\n",
    "grupos_acumulados = {}\n",
    "for chunk in conjunto_de_datos:\n",
    "    grouped = chunk.groupby(\"Variable\")\n",
    "    for nombre_grupo, grupo in grouped:\n",
    "        if nombre_grupo in grupos_acumulados:\n",
    "            grupos_acumulados[nombre_grupo] = pd.concat(\n",
    "                [grupos_acumulados[nombre_grupo], grupo]\n",
    "            )\n",
    "        else:\n",
    "            grupos_acumulados[nombre_grupo] = grupo\n",
    "\n",
    "grupos_acumulados_condicional = {}\n",
    "for us, ot in enumerate(list(variables_contaminacion.keys())):\n",
    "    vrclima = variables_contaminacion[ot][\"variable\"]\n",
    "    varPM = grupos_acumulados[vrclima][\"Fecha\"].str.replace(\"p. m.\", \"PM\")\n",
    "    grupos_acumulados[vrclima][\"Fecha\"] = varPM\n",
    "    varAM = grupos_acumulados[vrclima][\"Fecha\"].str.replace(\"a. m.\", \"AM\")\n",
    "    grupos_acumulados[vrclima][\"Fecha\"] = varAM\n",
    "    vrcondicion = grupos_acumulados[vrclima][\"Fecha\"]\n",
    "    grupos_acumulados[vrclima][\"Condicional\"] = vrcondicion.str.contains(\"M\")\n",
    "    remplazofv = grupos_acumulados[vrclima][\"Condicional\"].map(\n",
    "        {True: \"Fhora_AMPM\", False: \"Fhora_24HH\"}\n",
    "    )\n",
    "    grupos_acumulados[vrclima][\"Condicional\"] = remplazofv\n",
    "    grupo_condicional = grupos_acumulados[vrclima].groupby(\"Condicional\")\n",
    "    for nombre_grupo, grupo in grupo_condicional:\n",
    "        if nombre_grupo in grupos_acumulados_condicional:\n",
    "            grupos_acumulados_condicional[nombre_grupo] = pd.concat(\n",
    "                [grupos_acumulados_condicional[nombre_grupo], grupo]\n",
    "            )\n",
    "        else:\n",
    "            grupos_acumulados_condicional[nombre_grupo] = grupo\n",
    "grupo_condicional_acumulados = pd.concat(grupos_acumulados_condicional.values())\n",
    "grup_condicional = grupo_condicional_acumulados.groupby(\"Condicional\")\n",
    "grupos_formatoHora_12h_24H = {}\n",
    "for nombre_grupo, grupo in grup_condicional:\n",
    "    if nombre_grupo in grupos_formatoHora_12h_24H:\n",
    "        grupos_formatoHora_12h_24H[nombre_grupo] = pd.concat(\n",
    "            [grupos_formatoHora_12h_24H[nombre_grupo], grupo]\n",
    "        )\n",
    "    else:\n",
    "        grupos_formatoHora_12h_24H[nombre_grupo] = grupo\n",
    "\n",
    "grupos_formatoHora_12h_24H[\"Fhora_AMPM\"][\"Fecha_24h\"] = pd.to_datetime(\n",
    "    grupos_formatoHora_12h_24H[\"Fhora_AMPM\"][\"Fecha\"],\n",
    "    format=\"%d/%m/%Y %I:%M:%S %p\",\n",
    "    errors=\"coerce\",\n",
    "    dayfirst=True,\n",
    ")\n",
    "\n",
    "fecha_minima = grupos_formatoHora_12h_24H[\"Fhora_AMPM\"][\"Fecha_24h\"].min()\n",
    "fecha_referencia = pd.to_datetime(\n",
    "    fecha_minima,\n",
    "    format=\"%d/%m/%Y %H:%M:%S\",\n",
    "    errors=\"coerce\",\n",
    "    dayfirst=True,\n",
    ")\n",
    "# Calcular la diferencia en horas entre cada fecha y la hora de referencia\n",
    "grupos_formatoHora_12h_24H[\"Fhora_AMPM\"][\"Fecha_horas\"] = (\n",
    "    grupos_formatoHora_12h_24H[\"Fhora_AMPM\"][\"Fecha_24h\"] - fecha_referencia\n",
    ").dt.total_seconds() / 3600\n",
    "grupos_formatoHora_12h_24H[\"Fhora_AMPM\"][\"Fecha_24h\"] = grupos_formatoHora_12h_24H[\n",
    "    \"Fhora_AMPM\"\n",
    "][\"Fecha_24h\"].dt.strftime(\"%Y/%m/%d %H:%M:%S\")\n",
    "grupos_formatoHora_12h_24H[\"Fhora_AMPM\"].to_csv(\"Fhora_AMPM.csv\", index=False)\n",
    "\n",
    "grupos_formatoHora_12h_24H[\"Fhora_24HH\"][\"Fecha_24h\"] = pd.to_datetime(\n",
    "    grupos_formatoHora_12h_24H[\"Fhora_24HH\"][\"Fecha\"],\n",
    "    format=\"%d/%m/%Y %H:%M\",\n",
    "    errors=\"coerce\",\n",
    ")\n",
    "\n",
    "grupos_formatoHora_12h_24H[\"Fhora_24HH\"][\"Fecha_horas\"] = (\n",
    "    grupos_formatoHora_12h_24H[\"Fhora_24HH\"][\"Fecha_24h\"] - fecha_referencia\n",
    ").dt.total_seconds() / 3600\n",
    "\n",
    "grupos_formatoHora_12h_24H[\"Fhora_24HH\"][\"Fecha_24h\"] = grupos_formatoHora_12h_24H[\n",
    "    \"Fhora_24HH\"\n",
    "][\"Fecha_24h\"].dt.strftime(\"%Y/%m/%d %H:%M:%S\")\n",
    "\n",
    "grupos_formatoHora_12h_24H[\"Fhora_24HH\"].to_csv(\"Fhora_24HH.csv\", index=False)"
   ]
  },
  {
   "cell_type": "markdown",
   "metadata": {},
   "source": [
    "Debido a la limitación de memoria disponible (8 GB de RAM y 20 GB de swap), fue necesario almacenar los conjuntos de datos 'Fhora_AMPM.csv' y 'Fhora_24HH.csv' antes de cargarlos. Posteriormente, se dividieron y guardaron por municipio, y adicionalmente se guardaron los datos correspondientes a cada variable de forma independiente."
   ]
  },
  {
   "cell_type": "code",
   "execution_count": 3,
   "metadata": {},
   "outputs": [],
   "source": [
    "grupos_acumulados = {}\n",
    "for datsclima in [\"Fhora_AMPM\", \"Fhora_24HH\"]:\n",
    "    conjunto_de_datos = pd.read_csv(\n",
    "        datsclima + \".csv\",\n",
    "        dtype=str,\n",
    "        chunksize=5000000,\n",
    "    )\n",
    "\n",
    "    for chunk in conjunto_de_datos:\n",
    "        grouped = chunk.groupby(\"Variable\")\n",
    "        for nombre_grupo, grupo in grouped:\n",
    "            if nombre_grupo in grupos_acumulados:\n",
    "                grupos_acumulados[nombre_grupo] = pd.concat(\n",
    "                    [grupos_acumulados[nombre_grupo], grupo]\n",
    "                )\n",
    "            else:\n",
    "                grupos_acumulados[nombre_grupo] = grupo"
   ]
  },
  {
   "cell_type": "code",
   "execution_count": 10,
   "metadata": {},
   "outputs": [],
   "source": [
    "for us, ot in enumerate(list(variables_contaminacion.keys())):\n",
    "    # dirpath = Path(f\"datos_outliers/{ot}\").mkdir(parents=True, exist_ok=True)\n",
    "    vrclima = variables_contaminacion[ot][\"variable\"]\n",
    "    df_colconcet_noNulos = (\n",
    "        grupos_acumulados[vrclima].dropna(axis=0, subset=[\"Concentración\"]).copy()\n",
    "    )\n",
    "    df_noNulos_ordenados = df_colconcet_noNulos.sort_values(by=\"Fecha_horas\").copy()\n",
    "    df_noNulos_ordenados[\"Concentración\"] = df_noNulos_ordenados[\n",
    "        \"Concentración\"\n",
    "    ].str.replace(\",\", \"\")\n",
    "\n",
    "    df_noNulos_ordenados[\"Concentración\"] = df_noNulos_ordenados[\n",
    "        \"Concentración\"\n",
    "    ].astype(float)\n",
    "\n",
    "    Q1 = df_noNulos_ordenados[\"Concentración\"].quantile(0.25)\n",
    "    Q3 = df_noNulos_ordenados[\"Concentración\"].quantile(0.75)\n",
    "    iqr = Q3 - Q1\n",
    "\n",
    "    lower_limit = Q1 - 1.5 * iqr\n",
    "    upper_limit = Q3 + 1.5 * iqr\n",
    "\n",
    "    outliers_municipal = df_noNulos_ordenados[\n",
    "        (df_noNulos_ordenados[\"Concentración\"] < lower_limit)\n",
    "        | (df_noNulos_ordenados[\"Concentración\"] > upper_limit)\n",
    "    ]\n",
    "    # nombre_archivo = f\"datos_segmentados/{ot}.csv\"\n",
    "    # df_noNulos_ordenados.to_csv(nombre_archivo, index=False)\n",
    "\n",
    "    grouped_id_municipio = outliers_municipal.groupby(\"Código del municipio\")\n",
    "    grupos_acumulados_municipio = {}\n",
    "    for nombre_grupo, grupo in grouped_id_municipio:\n",
    "        if nombre_grupo in grupos_acumulados_municipio:\n",
    "            grupos_acumulados_municipio[nombre_grupo] = pd.concat(\n",
    "                [grupos_acumulados_municipio[nombre_grupo], grupo]\n",
    "            )\n",
    "        else:\n",
    "            grupos_acumulados_municipio[nombre_grupo] = grupo\n",
    "\n",
    "    for nombre_grupo, grupo in grupos_acumulados_municipio.items():\n",
    "        nombre_archivo = f\"datos_segmentados/{ot}/{nombre_grupo}.csv\"\n",
    "        grupo.to_csv(nombre_archivo, index=False)\n",
    "        print(f\"Guardado: {nombre_archivo}\")"
   ]
  },
  {
   "cell_type": "code",
   "execution_count": 3,
   "metadata": {},
   "outputs": [],
   "source": [
    "# df_grupos_acumulados = pd.concat(grupos_acumulados.values())"
   ]
  },
  {
   "cell_type": "markdown",
   "metadata": {},
   "source": [
    "# Visualización de series temporales climaticas"
   ]
  },
  {
   "cell_type": "code",
   "execution_count": null,
   "metadata": {},
   "outputs": [],
   "source": []
  },
  {
   "cell_type": "markdown",
   "metadata": {},
   "source": [
    "# Analizando datos atípicos"
   ]
  },
  {
   "cell_type": "markdown",
   "metadata": {},
   "source": [
    "### Calcular tamaños de avalancha "
   ]
  },
  {
   "cell_type": "code",
   "execution_count": null,
   "metadata": {},
   "outputs": [],
   "source": [
    "ui = np.array([[i, j] for i in range(1) for j in range(2)])\n",
    "for ur in range(0,len(list(variables_contaminacion.keys())),2):\n",
    "    fig = plt.figure(figsize=(25, 5), tight_layout=True)\n",
    "    gs = gridspec.GridSpec(1, 3)\n",
    "    for us in range(ur,ur+2):\n",
    "        uz = us % 2\n",
    "        ot=list(variables_contaminacion.keys())[us]\n",
    "        ax = fig.add_subplot(gs[ui[:, 0][uz], ui[:, 1][uz]])\n",
    "        dfout = pd.read_csv(\"datos_outliers/\" + ot + \".csv\", dtype=str)\n",
    "        dats_dinamic = np.array(dfout[\"Fecha_horas\"], dtype=float)\n",
    "        size_avalancha = size_avalancha(dats_dinamic)\n",
    "        if len(size_avalancha) > 2:\n",
    "            k = len(np.histogram_bin_edges(size_avalancha, bins=\"auto\"))\n",
    "            spk_count, edges = np.histogram(size_avalancha, bins=k)\n",
    "            df = {\"x\": edges[1:], \"y\": spk_count}\n",
    "            sns.lineplot(x = \"x\", y = \"y\", data = df,marker = \"o\",color=\"blue\",ax=ax,label=r\"Experimental data\")\n",
    "            # ax.plot(edges[1:], spk_count, \".\")\n",
    "        nombre_variable = variables_contaminacion[ot][\"variable\"]\n",
    "        ax.set_title(nombre_variable)\n",
    "        ax.set_yscale(\"log\")\n",
    "        ax.set_xscale(\"log\")\n",
    "    plt.show()"
   ]
  },
  {
   "cell_type": "markdown",
   "metadata": {},
   "source": [
    "### Analisando raster plot en datos climaticos"
   ]
  },
  {
   "cell_type": "code",
   "execution_count": 97,
   "metadata": {},
   "outputs": [],
   "source": [
    "def binarise(lista_outliers, bins_size=6):\n",
    "    outliers_concatenate = []\n",
    "    for idmun in range(len(lista_outliers)):\n",
    "        outliers_concatenate.extend(lista_outliers[idmun])\n",
    "    outliers_concatenate_sort = np.sort(outliers_concatenate)\n",
    "    intervalo = int(\n",
    "        (outliers_concatenate_sort[-1] - outliers_concatenate_sort[0]) / bins_size\n",
    "    )\n",
    "    outliers_array_binary = np.zeros((len(lista_outliers), (intervalo + 1)))\n",
    "\n",
    "    for i in range(len(lista_outliers)):\n",
    "        print(\"Binarization %s\" % i)\n",
    "        for j in range(intervalo + 1):\n",
    "            outlist = np.array(lista_outliers[i])\n",
    "            bins_size_min = j * bins_size + outliers_concatenate_sort[0]\n",
    "            bins_size_max = (j + 1) * bins_size + outliers_concatenate_sort[0]\n",
    "            count_outliers = outlist[\n",
    "                (outlist >= bins_size_min) & (outlist <= bins_size_max)\n",
    "            ]\n",
    "            if len(count_outliers) >= 1:\n",
    "                outliers_array_binary[i, j] = 1\n",
    "    return outliers_array_binary"
   ]
  },
  {
   "cell_type": "code",
   "execution_count": 106,
   "metadata": {},
   "outputs": [],
   "source": [
    "def fto(lista_outliers, bins_size=6):\n",
    "    outliers_concatenate = []\n",
    "    for idmun in range(len(lista_outliers)):\n",
    "        outliers_concatenate.extend(lista_outliers[idmun])\n",
    "        interv = max(outliers_concatenate) - min(outliers_concatenate)\n",
    "        intervalo = int(interv / bins_size)\n",
    "    return min(outliers_concatenate), intervalo"
   ]
  },
  {
   "cell_type": "code",
   "execution_count": null,
   "metadata": {},
   "outputs": [],
   "source": [
    "size_avalancha_out=[]\n",
    "for ot in list(variables_contaminacion.keys()):\n",
    "    dfout = pd.read_csv(\"datos_outliers/\" + ot + \".csv\", dtype=str)\n",
    "    dats_dinamic = list(np.array(dfout[\"Fecha_horas\"], dtype=float))\n",
    "    # if len(list(size_avalancha_outliers(dats_dinamic)))!=0:\n",
    "    size_avalancha_out.append(dats_dinamic)\n",
    "array_rasterplot = binarise(size_avalancha_out)"
   ]
  },
  {
   "cell_type": "code",
   "execution_count": 107,
   "metadata": {},
   "outputs": [],
   "source": [
    "to,axt=fto(size_avalancha_out)\n",
    "tiempo=[]\n",
    "for j in range(axt + 1):\n",
    "    tiempo.append(6 * j + to)"
   ]
  },
  {
   "cell_type": "code",
   "execution_count": null,
   "metadata": {},
   "outputs": [],
   "source": [
    "fig = plt.figure(figsize=(20,15), tight_layout=True)\n",
    "gs = gridspec.GridSpec(1, 1)\n",
    "ax = fig.add_subplot(gs[0,0])\n",
    "for i in range(len(array_rasterplot[:,0])):\n",
    "    ax.plot(tiempo, i * array_rasterplot[i, :], \"|\", color=\"black\")\n",
    "\n",
    "# Etiquetas y formato\n",
    "plt.xlabel(\"Tiempo (s)\")\n",
    "plt.ylabel(\"Neuronas\")\n",
    "plt.title(\"Raster Plot con Series Temporales de Diferente Longitud\")\n",
    "\n",
    "plt.show()"
   ]
  },
  {
   "cell_type": "code",
   "execution_count": null,
   "metadata": {},
   "outputs": [],
   "source": [
    "fig = plt.figure(figsize=(20, 15), tight_layout=True)\n",
    "gs = gridspec.GridSpec(1, 1)\n",
    "ax = fig.add_subplot(gs[0, 0])\n",
    "ax.eventplot(size_avalancha_out, linelengths=0.8, color=\"black\")\n",
    "\n",
    "# Etiquetas y formato\n",
    "plt.xlabel(\"Tiempo (s)\")\n",
    "plt.ylabel(\"Neuronas\")\n",
    "plt.title(\"Raster Plot con Series Temporales de Diferente Longitud\")\n",
    "\n",
    "plt.show()"
   ]
  },
  {
   "cell_type": "markdown",
   "metadata": {},
   "source": [
    "# Buscando avalanchas en datos para variable climáticas "
   ]
  },
  {
   "cell_type": "code",
   "execution_count": null,
   "metadata": {},
   "outputs": [],
   "source": [
    "dataframe_outliers=[]\n",
    "for us, ot in enumerate(list(variables_contaminacion.keys())):\n",
    "    try:\n",
    "        data_frame_csv = pd.read_csv(\n",
    "            \"datos_outliers_varible/\" + ot + \".csv\", dtype=str\n",
    "        )\n",
    "    except:\n",
    "        print(\"El archivo de datos \"+ot+\" no existe\")\n",
    "        continue\n",
    "\n",
    "    data_frame_csv[\"Fecha_horas\"] = data_frame_csv[\"Fecha_horas\"].astype(float)\n",
    "    dataframe_outliers.append(data_frame_csv)"
   ]
  },
  {
   "cell_type": "markdown",
   "metadata": {},
   "source": [
    "### binarizando datos climaticos"
   ]
  },
  {
   "cell_type": "code",
   "execution_count": null,
   "metadata": {},
   "outputs": [],
   "source": [
    "conjunto_datos_outliers = pd.read_csv(\"datos_outliers.csv\")\n",
    "grupos_temporales = conjunto_datos_outliers.groupby(\"Código del municipio\")\n",
    "events_temp = grupos_temporales.describe()\n",
    "df_describ = events_temp.reset_index()\n",
    "lista_outliers = []\n",
    "for id_mun in list(df_describ[\"Código del municipio\"]):\n",
    "    grupo_municipio_outlirs = grupos_temporales.get_group(id_mun)\n",
    "    lista_outliers.append(list(grupo_municipio_outlirs[\"Fecha_horas\"]))"
   ]
  },
  {
   "cell_type": "code",
   "execution_count": null,
   "metadata": {},
   "outputs": [],
   "source": []
  },
  {
   "cell_type": "code",
   "execution_count": 98,
   "metadata": {},
   "outputs": [],
   "source": [
    "numcols = [\"col\" + str(int(u)) for u in range(len(outliers_array_binary[0,:]))]\n",
    "mpanda=pd.DataFrame(outliers_array_binary,columns=numcols)\n",
    "mpanda.to_csv(\"outliers_array_binary.csv\",index=False)"
   ]
  },
  {
   "cell_type": "markdown",
   "metadata": {},
   "source": []
  },
  {
   "cell_type": "code",
   "execution_count": 18,
   "metadata": {},
   "outputs": [
    {
     "data": {
      "image/png": "[encoded data removed]",
      "text/plain": [
       "<Figure size 640x480 with 1 Axes>"
      ]
     },
     "metadata": {},
     "output_type": "display_data"
    }
   ],
   "source": [
    "plt.eventplot(dataframe_outliers, linelengths=0.8, color=\"black\")\n",
    "\n",
    "# Etiquetas y formato\n",
    "plt.xlabel(\"Tiempo (s)\")\n",
    "plt.ylabel(\"Neuronas\")\n",
    "plt.title(\"Raster Plot con Series Temporales de Diferente Longitud\")\n",
    "\n",
    "plt.show()"
   ]
  },
  {
   "cell_type": "code",
   "execution_count": 103,
   "metadata": {},
   "outputs": [
    {
     "name": "stdout",
     "output_type": "stream",
     "text": [
      "Parámetros ajustados: a=429.89, b=2.16\n"
     ]
    },
    {
     "data": {
      "image/png": "[encoded data removed]",
      "text/plain": [
       "<Figure size 1000x600 with 1 Axes>"
      ]
     },
     "metadata": {},
     "output_type": "display_data"
    },
    {
     "name": "stdout",
     "output_type": "stream",
     "text": [
      "Parámetros ajustados: a=364.03, b=1.54\n"
     ]
    },
    {
     "data": {
      "image/png": "[encoded data removed]",
      "text/plain": [
       "<Figure size 1000x600 with 1 Axes>"
      ]
     },
     "metadata": {},
     "output_type": "display_data"
    },
    {
     "name": "stdout",
     "output_type": "stream",
     "text": [
      "Parámetros ajustados: a=1101.28, b=1.95\n"
     ]
    },
    {
     "data": {
      "image/png": "[encoded data removed]",
      "text/plain": [
       "<Figure size 1000x600 with 1 Axes>"
      ]
     },
     "metadata": {},
     "output_type": "display_data"
    }
   ],
   "source": [
    "def model(x, a, b):\n",
    "    f = a * x**-b\n",
    "    return f\n",
    "\n",
    "for idmun_arr in dataframe_outliers:\n",
    "\n",
    "    k = len(\n",
    "    np.histogram_bin_edges(\n",
    "            size_avalancha_outliers(list(idmun_arr[\"Fecha_horas\"])), bins=\"auto\"\n",
    "        )\n",
    "    )\n",
    "    spk_count, edges = np.histogram(\n",
    "        size_avalancha_outliers(list(idmun_arr[\"Fecha_horas\"])), bins=k\n",
    "    )\n",
    "    ax.plot(edges[1:], spk_count, \".\")\n",
    "    x = np.array(list(edges[1:]), dtype=float)\n",
    "    y = np.array(list(spk_count), dtype=float)\n",
    "    yerr = np.array(list(len(spk_count) * [1]), dtype=float)\n",
    "\n",
    "    # yerr = yerr[x < 10]\n",
    "    # y=y[x<10]\n",
    "    # x=x[x<10]\n",
    "\n",
    "    chi2 = Chi2Regression(model, x, y, yerr)\n",
    "    m = Minuit(chi2, a=0.4, b=1)\n",
    "    m.migrad()\n",
    "\n",
    "    a_fit = m.values[\"a\"]\n",
    "    b_fit = m.values[\"b\"]\n",
    "    print(f\"Parámetros ajustados: a={a_fit:.2f}, b={b_fit:.2f}\")\n",
    "\n",
    "    # Graficar datos y ajuste\n",
    "    plt.figure(figsize=(10, 6))\n",
    "    plt.loglog(x, y, \"o\", label=\"Datos\")\n",
    "    plt.loglog(\n",
    "        x, model(x, a_fit, b_fit), \"r-\", label=f\"Ajuste: a={a_fit:.2f}, b={b_fit:.2f}\"\n",
    "    )\n",
    "    plt.xlabel(\"Eje X\")\n",
    "    plt.ylabel(\"Eje Y\")\n",
    "    plt.title(\"Ajuste de Ley de Potencia usando Minuit\")\n",
    "    plt.legend()\n",
    "    plt.show()"
   ]
  },
  {
   "cell_type": "markdown",
   "metadata": {},
   "source": [
    "# Análisis de datos por id municipal"
   ]
  },
  {
   "cell_type": "code",
   "execution_count": 4,
   "metadata": {},
   "outputs": [],
   "source": [
    "df_unique = pd.read_csv(\"datos_segmentados/minicipios_unicos.csv\")"
   ]
  },
  {
   "cell_type": "code",
   "execution_count": null,
   "metadata": {},
   "outputs": [
    {
     "ename": "",
     "evalue": "",
     "output_type": "error",
     "traceback": [
      "\u001b[1;31mEl kernel se bloqueó al ejecutar código en la celda actual o en una celda anterior. \n",
      "\u001b[1;31mRevise el código de las celdas para identificar una posible causa del error. \n",
      "\u001b[1;31mHaga clic <a href='https://aka.ms/vscodeJupyterKernelCrash'>aquí</a> para obtener más información. \n",
      "\u001b[1;31mVea Jupyter <a href='command:jupyter.viewOutput'>log</a> para obtener más detalles."
     ]
    }
   ],
   "source": [
    "for us, ot in enumerate(list(variables_contaminacion.keys())):\n",
    "    if ot!=\"pm10_concentracion\" and ot!=\"velocidad_viento\":\n",
    "        fig = plt.figure(figsize=(35, 10), tight_layout=True)\n",
    "    else:\n",
    "        fig = plt.figure(figsize=(50, 10), tight_layout=True)\n",
    "\n",
    "    gs = gridspec.GridSpec(1, 1)\n",
    "    ax = fig.add_subplot(gs[0, 0])\n",
    "    data_frame_subconjunto = pd.read_csv(\"datos_segmentados/\" + ot + \".csv\", dtype=str)\n",
    "\n",
    "    data_frame_subconjunto = data_frame_subconjunto.dropna(axis=0, subset=[\"Concentración\"])\n",
    "    data_frame_subconjunto[\"Concentración\"] = data_frame_subconjunto[\"Concentración\"].str.replace(\",\",\"\")\n",
    "    data_frame_subconjunto[\"Concentración\"] = data_frame_subconjunto[\"Concentración\"].astype(float)\n",
    "\n",
    "    Q1 = data_frame_subconjunto[\"Concentración\"].quantile(0.25)\n",
    "    Q3 = data_frame_subconjunto[\"Concentración\"].quantile(0.75)\n",
    "    iqr= Q3 - Q1\n",
    "\n",
    "    lower_limit = Q1 - 1.5 * iqr\n",
    "    upper_limit = Q3 + 1.5 * iqr\n",
    "\n",
    "    outliers = data_frame_subconjunto[\n",
    "        (data_frame_subconjunto[\"Concentración\"] < lower_limit) | (data_frame_subconjunto[\"Concentración\"] > upper_limit)\n",
    "    ]\n",
    "\n",
    "    dfsort = outliers.groupby(\"Código del municipio\")\n",
    "    grupos_acumulados = {}\n",
    "    for nombre_grupo, grupo in dfsort:\n",
    "        if nombre_grupo in grupos_acumulados:\n",
    "            grupos_acumulados[nombre_grupo] = pd.concat(\n",
    "                [grupos_acumulados[nombre_grupo], grupo]\n",
    "            )\n",
    "        else:\n",
    "            grupos_acumulados[nombre_grupo] = grupo\n",
    "\n",
    "    dfgacum = pd.concat(grupos_acumulados.values())\n",
    "    dfgracum = dfgacum.drop_duplicates(subset=\"Código del municipio\")\n",
    "    asxc = dfsort[\"Concentración\"].describe()\n",
    "    df_describ = asxc.reset_index()\n",
    "    df_describ.insert(\n",
    "        1, \"Nombre del municipio\", list(dfgracum[\"Nombre del municipio\"])\n",
    "    )\n",
    "\n",
    "    sqrcont = np.sqrt(np.array(list(df_describ[\"count\"].to_numpy())))\n",
    "    x = df_describ[\"Nombre del municipio\"].to_numpy()\n",
    "    y = df_describ[\"count\"].to_numpy()\n",
    "    error = df_describ[\"std\"].to_numpy() / sqrcont\n",
    "\n",
    "    ax.bar(x=x, height=y, capsize=10, color=\"#619cff\", ecolor=\"r\")\n",
    "    unidad_variable = variables_contaminacion[ot][\"unidad\"]\n",
    "    nombre_variable = variables_contaminacion[ot][\"variable\"]\n",
    "    ax.xaxis.set_tick_params(labelsize=17)\n",
    "    ax.yaxis.set_tick_params(labelsize=25)\n",
    "    ax.set_xlabel(f\"Municpios de Colombia\", fontsize=35)\n",
    "    ax.set_ylabel(f\"{nombre_variable} ({unidad_variable})\", fontsize=35)\n",
    "    ax.set_title(\n",
    "        f\"Promedio muestral de datos {nombre_variable} ({unidad_variable}) por  municipio\",\n",
    "        fontsize=45,\n",
    "    )\n",
    "    plt.setp(ax.get_xticklabels(), rotation=45, ha=\"right\", rotation_mode=\"anchor\")\n",
    "    fig.savefig(f\"img_media_municipio/{ot}.pdf\")\n",
    "    plt.show()"
   ]
  },
  {
   "cell_type": "code",
   "execution_count": 45,
   "metadata": {},
   "outputs": [
    {
     "name": "stdout",
     "output_type": "stream",
     "text": [
      "<class 'pandas.core.frame.DataFrame'>\n",
      "Index: 42333 entries, 5 to 950529\n",
      "Data columns (total 16 columns):\n",
      " #   Column                          Non-Null Count  Dtype  \n",
      "---  ------                          --------------  -----  \n",
      " 0   Fecha                           42333 non-null  object \n",
      " 1   Autoridad Ambiental             42333 non-null  object \n",
      " 2   Nombre de la estación           42333 non-null  object \n",
      " 3   Tecnología                      39184 non-null  object \n",
      " 4   Latitud                         42333 non-null  object \n",
      " 5   Longitud                        42333 non-null  object \n",
      " 6   Código del departamento         42333 non-null  object \n",
      " 7   Departamento                    42333 non-null  object \n",
      " 8   Código del municipio            42333 non-null  object \n",
      " 9   Nombre del municipio            42333 non-null  object \n",
      " 10  Tipo de estación                42333 non-null  object \n",
      " 11  Tiempo de exposición            42333 non-null  object \n",
      " 12  Variable                        42333 non-null  object \n",
      " 13  Unidades                        42333 non-null  object \n",
      " 14  Concentración                   42333 non-null  float64\n",
      " 15  Nueva columna georreferenciada  42333 non-null  object \n",
      "dtypes: float64(1), object(15)\n",
      "memory usage: 5.5+ MB\n"
     ]
    }
   ],
   "source": [
    "data_frame_subconjunto.info()\n",
    "# datf.isnull().sum()\n",
    "# np.array(df_unique)[io, jo]\n",
    "# np.array(list(np.array(df_unique)[:, 0]))\n",
    "\n",
    "# np.array(list(np.array(df_unique)[:, 1]))[io, jo]"
   ]
  },
  {
   "cell_type": "code",
   "execution_count": null,
   "metadata": {},
   "outputs": [],
   "source": []
  },
  {
   "cell_type": "code",
   "execution_count": 16,
   "metadata": {},
   "outputs": [
    {
     "name": "stdout",
     "output_type": "stream",
     "text": [
      "[NbConvertApp] Converting notebook datosaire.ipynb to pdf\n",
      "/home/alejandro/.pyenv/versions/djworkspace/lib/python3.8/site-packages/nbconvert/utils/pandoc.py:50: RuntimeWarning: You are using an unsupported version of pandoc (2.5).\n",
      "Your version must be at least (2.9.2) but less than (4.0.0).\n",
      "Refer to https://pandoc.org/installing.html.\n",
      "Continuing with doubts...\n",
      "  check_pandoc_version()\n",
      "[NbConvertApp] Support files will be in datosaire_files/\n",
      "[NbConvertApp] Making directory ./datosaire_files\n",
      "[NbConvertApp] Writing 117077 bytes to notebook.tex\n",
      "[NbConvertApp] Building PDF\n",
      "[NbConvertApp] Running xelatex 3 times: ['xelatex', 'notebook.tex', '-quiet']\n",
      "[NbConvertApp] Running bibtex 1 time: ['bibtex', 'notebook']\n",
      "[NbConvertApp] WARNING | bibtex had problems, most likely because there were no citations\n",
      "[NbConvertApp] PDF successfully created\n",
      "[NbConvertApp] Writing 531460 bytes to datosaire.pdf\n"
     ]
    }
   ],
   "source": [
    "!jupyter nbconvert --to pdf datosaire.ipynb\n",
    "# k!pip install jupyter\n"
   ]
  }
 ],
 "metadata": {
  "kernelspec": {
   "display_name": "Python 3 (ipykernel)",
   "language": "python",
   "name": "python3"
  },
  "language_info": {
   "codemirror_mode": {
    "name": "ipython",
    "version": 3
   },
   "file_extension": ".py",
   "mimetype": "text/x-python",
   "name": "python",
   "nbconvert_exporter": "python",
   "pygments_lexer": "ipython3",
   "version": "3.8.10"
  }
 },
 "nbformat": 4,
 "nbformat_minor": 4
}
